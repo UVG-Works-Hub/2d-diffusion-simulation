{
 "cells": [
  {
   "cell_type": "code",
   "execution_count": 2,
   "metadata": {},
   "outputs": [],
   "source": [
    "import numpy as np\n",
    "import matplotlib.pyplot as plt\n",
    "import matplotlib.animation as animation"
   ]
  },
  {
   "cell_type": "markdown",
   "metadata": {},
   "source": [
    "### Utility Functions"
   ]
  },
  {
   "cell_type": "code",
   "execution_count": 3,
   "metadata": {},
   "outputs": [],
   "source": [
    "def createAnimation(gridHist, filename='diffusion_simulation', format='gif'):\n",
    "    \"\"\"\n",
    "    Create and save a gif of the grid evolution, showing the step number on each frame.\n",
    "\n",
    "    Args:\n",
    "    gridHist (ndarray): 3D array of grid states over time\n",
    "    filename (str): Name of the output gif file\n",
    "    format (str): Format of the output file (only 'gif' is supported)\n",
    "    \"\"\"\n",
    "    fig, ax = plt.subplots()\n",
    "    ims = []\n",
    "    for t, grid in enumerate(gridHist):\n",
    "        im = ax.imshow(grid, cmap='viridis', animated=True)\n",
    "        text = ax.text(0.02, 0.95, f'Step: {t}', transform=ax.transAxes, color='white',\n",
    "                       fontweight='bold', bbox=dict(facecolor='black', alpha=0.5))\n",
    "        ims.append([im, text])\n",
    "\n",
    "    ani = animation.ArtistAnimation(fig, ims, interval=200, blit=False, repeat_delay=1000)\n",
    "    ani.save(f'{filename}.gif', writer='pillow')\n",
    "\n",
    "    plt.close()"
   ]
  },
  {
   "cell_type": "code",
   "execution_count": 4,
   "metadata": {},
   "outputs": [],
   "source": [
    "def simSnapshot(grid, step, filename='diffusion_snapshot'):\n",
    "    \"\"\"\n",
    "    Create and show a snapshot of the grid at a specific step.\n",
    "\n",
    "    Args:\n",
    "    grid (ndarray): 2D array representing the grid state\n",
    "    step (int): The current step number\n",
    "    filename (str): Name of the output image file\n",
    "    \"\"\"\n",
    "    fig, ax = plt.subplots()\n",
    "    im = ax.imshow(grid, cmap='viridis')\n",
    "    plt.colorbar(im)\n",
    "    ax.text(0.02, 0.95, f'Step: {step}', transform=ax.transAxes, color='white',\n",
    "            fontweight='bold', bbox=dict(facecolor='black', alpha=0.5))\n",
    "    # Just showing the plot\n",
    "    plt.show()"
   ]
  },
  {
   "cell_type": "markdown",
   "metadata": {},
   "source": [
    "### Automata Functions"
   ]
  },
  {
   "cell_type": "code",
   "execution_count": 5,
   "metadata": {},
   "outputs": [],
   "source": [
    "def getNeighbors(x, y, M, N, rad):\n",
    "    \"\"\"\n",
    "    Get the neighbors of a cell within a given radius.\n",
    "\n",
    "    Args:\n",
    "    x, y (int): Cell coordinates\n",
    "    M, N (int): Grid dimensions\n",
    "    rad (int): Radius for neighborhood\n",
    "\n",
    "    Returns:\n",
    "    neighbors (ndarray): Array of neighbor coordinates\n",
    "    \"\"\"\n",
    "    neighbors = []\n",
    "    for i in range(-rad, rad + 1):\n",
    "        for j in range(-rad, rad + 1):\n",
    "            if i == 0 and j == 0:\n",
    "                continue  # Skip the current cell itself\n",
    "            if 0 <= x + i < M and 0 <= y + j < N:  # Ensure within grid bounds\n",
    "                neighbors.append([x + i, y + j])\n",
    "\n",
    "    return np.array(neighbors)  # Convert to NumPy array for efficiency"
   ]
  },
  {
   "cell_type": "code",
   "execution_count": 6,
   "metadata": {},
   "outputs": [],
   "source": [
    "def automatonStep(u_0, K, M, N, rad, mask):\n",
    "    \"\"\"\n",
    "    Perform a single step of the diffusion process.\n",
    "\n",
    "    Args:\n",
    "    u_0 (ndarray): Current state of the grid\n",
    "    K (float): Diffusion coefficient\n",
    "    M, N (int): Grid dimensions\n",
    "    rad (int): Radius for neighborhood\n",
    "    mask (ndarray): Mask for the grid\n",
    "\n",
    "    Returns:\n",
    "    u_new (ndarray): Updated grid\n",
    "    \"\"\"\n",
    "    u_new = u_0.copy()  # Copy the current grid to avoid modifying it in place\n",
    "\n",
    "    # Loop over each cell in the grid\n",
    "    for x in range(M):\n",
    "        for y in range(N):\n",
    "            if mask[x, y]:  # Only update cells inside the masked region\n",
    "                neighbors = getNeighbors(x, y, M, N, rad)  # Get the neighbors\n",
    "                valid_neighbors = mask[neighbors[:, 0], neighbors[:, 1]]  # Check which neighbors are in the mask\n",
    "                neighbor_values = u_0[neighbors[:, 0], neighbors[:, 1]]\n",
    "                neighbor_sum = np.sum(neighbor_values[valid_neighbors])\n",
    "                num_valid_neighbors = np.sum(valid_neighbors)\n",
    "                if num_valid_neighbors > 0:\n",
    "                    u_new[x, y] = (1 - K) * u_0[x, y] + (K / num_valid_neighbors) * neighbor_sum\n",
    "\n",
    "    return u_new"
   ]
  },
  {
   "cell_type": "code",
   "execution_count": 7,
   "metadata": {},
   "outputs": [],
   "source": [
    "def automatonSim(M, N, T, u_0, K, rad, mask):\n",
    "    \"\"\"\n",
    "    Simulate the diffusion process using a cellular automaton.\n",
    "\n",
    "    Args:\n",
    "    M, N (int): Grid dimensions\n",
    "    T (int): Number of time steps\n",
    "    u_0 (ndarray): Initial distribution (2D array of size M x N)\n",
    "    K (float): Diffusion rate parameter\n",
    "    rad (int): Radius for neighborhood\n",
    "    mask (ndarray): Boolean mask defining the diffusion region (True for active cells)\n",
    "\n",
    "    Returns:\n",
    "    history (ndarray): 3D array with the system's evolution\n",
    "    \"\"\"\n",
    "    u = u_0.copy()\n",
    "    history = np.zeros((T+1, M, N))\n",
    "    history[0] = u\n",
    "\n",
    "    for t in range(T):\n",
    "        u = automatonStep(u, K, M, N, rad, mask)\n",
    "        history[t+1] = u\n",
    "\n",
    "    return history"
   ]
  },
  {
   "cell_type": "markdown",
   "metadata": {},
   "source": [
    "#### Testing"
   ]
  },
  {
   "cell_type": "code",
   "execution_count": 8,
   "metadata": {},
   "outputs": [
    {
     "data": {
      "image/png": "[encoded data removed]",
      "text/plain": [
       "<Figure size 640x480 with 2 Axes>"
      ]
     },
     "metadata": {},
     "output_type": "display_data"
    }
   ],
   "source": [
    "M, N = 50, 50\n",
    "T = 100\n",
    "K = 0.2\n",
    "rad = 1\n",
    "\n",
    "mask = np.ones((M, N), dtype=bool)\n",
    "mask[M//3:, N//3:] = False\n",
    "\n",
    "u_0 = np.zeros((M, N))\n",
    "u_0[M//4, N//4] = 1.0\n",
    "\n",
    "history = automatonSim(M, N, T, u_0, K, rad, mask)\n",
    "\n",
    "createAnimation(history, filename='diffusion_simulation')\n",
    "simSnapshot(history[50], 50, filename='diffusion_snapshot')"
   ]
  },
  {
   "cell_type": "markdown",
   "metadata": {},
   "source": [
    "### Particles Functions"
   ]
  },
  {
   "cell_type": "code",
   "execution_count": 9,
   "metadata": {},
   "outputs": [],
   "source": [
    "def particleSim(M, N, T, u0, mask, Np):\n",
    "    \"\"\"\n",
    "    Simulates the diffusion process using particles.\n",
    "\n",
    "    Args:\n",
    "    M, N (int): Grid dimensions.\n",
    "    T (int): Number of time steps.\n",
    "    u0 (ndarray): Initial distribution (2D array of size M x N).\n",
    "    mask (ndarray): Boolean mask defining the diffusion region (True for active cells).\n",
    "    Np (int): Number of particles to simulate.\n",
    "\n",
    "    Returns:\n",
    "    history (ndarray): 3D array with the system evolution (particle count in each cell).\n",
    "    \"\"\"\n",
    "    # Initialize particles according to u0\n",
    "    u0_flat = u0.flatten()\n",
    "    mask_flat = mask.flatten()\n",
    "    u0_flat = u0_flat * mask_flat  # Ensure u0 is zero outside the mask\n",
    "    u0_flat = u0_flat / u0_flat.sum()  # Normalize to sum to 1\n",
    "\n",
    "    indices = np.arange(M * N)\n",
    "    initial_positions = np.random.choice(indices, size=Np, p=u0_flat)\n",
    "    particle_positions = np.column_stack(np.unravel_index(initial_positions, (M, N)))\n",
    "\n",
    "    history = np.zeros((T + 1, M, N), dtype=int)\n",
    "    np.add.at(history[0], (particle_positions[:, 0], particle_positions[:, 1]), 1)\n",
    "\n",
    "    # Possible displacements towards neighbors\n",
    "    neighbor_offsets = np.array([\n",
    "        (-1, -1), (-1, 0), (-1, 1),\n",
    "        (0, -1),          (0, 1),\n",
    "        (1, -1),  (1, 0),  (1, 1)\n",
    "    ])\n",
    "\n",
    "    for t in range(1, T + 1):\n",
    "        # Select random movements for all particles\n",
    "        movement_indices = np.random.choice(len(neighbor_offsets), size=particle_positions.shape[0])\n",
    "        movements = neighbor_offsets[movement_indices]\n",
    "        # Update positions\n",
    "        new_positions = particle_positions + movements\n",
    "        # Ensure particles remain within boundaries\n",
    "        new_positions[:, 0] = np.clip(new_positions[:, 0], 0, M - 1)\n",
    "        new_positions[:, 1] = np.clip(new_positions[:, 1], 0, N - 1)\n",
    "        # Check which particles move to valid cells\n",
    "        valid_mask = mask[new_positions[:, 0], new_positions[:, 1]]\n",
    "        # For particles that don't move to valid cells, they remain in their current position\n",
    "        new_positions[~valid_mask] = particle_positions[~valid_mask]\n",
    "        # Update particle positions\n",
    "        particle_positions = new_positions\n",
    "        # Record positions in history\n",
    "        np.add.at(history[t], (particle_positions[:, 0], particle_positions[:, 1]), 1)\n",
    "\n",
    "    # Normalize history to obtain densities\n",
    "    history = history / Np\n",
    "    return history"
   ]
  },
  {
   "cell_type": "markdown",
   "metadata": {},
   "source": [
    "#### Testing"
   ]
  },
  {
   "cell_type": "code",
   "execution_count": 10,
   "metadata": {},
   "outputs": [
    {
     "data": {
      "image/png": "[encoded data removed]",
      "text/plain": [
       "<Figure size 640x480 with 2 Axes>"
      ]
     },
     "metadata": {},
     "output_type": "display_data"
    }
   ],
   "source": [
    "# Parámetros de la simulación\n",
    "M, N = 50, 50\n",
    "T = 100\n",
    "Np = 10000  # Número de partículas\n",
    "\n",
    "mask = np.ones((M, N), dtype=bool)\n",
    "mask[M//3:, N//3:] = False\n",
    "\n",
    "u_0 = np.zeros((M, N))\n",
    "u_0[M//4, N//4] = 1.0\n",
    "\n",
    "# Ejecutar la simulación de partículas\n",
    "history_particles = particleSim(M, N, T, u_0, mask, Np)\n",
    "\n",
    "# Crear animación y snapshot\n",
    "createAnimation(history_particles, filename='diffusion_particle_simulation')\n",
    "simSnapshot(history_particles[50], 50, filename='diffusion_particle_snapshot')"
   ]
  }
 ],
 "metadata": {
  "kernelspec": {
   "display_name": "Python 3",
   "language": "python",
   "name": "python3"
  },
  "language_info": {
   "codemirror_mode": {
    "name": "ipython",
    "version": 3
   },
   "file_extension": ".py",
   "mimetype": "text/x-python",
   "name": "python",
   "nbconvert_exporter": "python",
   "pygments_lexer": "ipython3",
   "version": "3.12.4"
  }
 },
 "nbformat": 4,
 "nbformat_minor": 2
}
